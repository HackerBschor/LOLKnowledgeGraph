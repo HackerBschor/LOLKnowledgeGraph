{
 "cells": [
  {
   "cell_type": "code",
   "outputs": [],
   "source": [
    "import matplotlib.pyplot as plt\n",
    "import numpy as np\n",
    "import pandas as pd\n",
    "import networkx as nx\n",
    "\n",
    "from pykeen.triples import TriplesFactory\n",
    "\n",
    "import matplotlib.pyplot as plt\n",
    "\n",
    "from db.graph import Neo4JConnector"
   ],
   "metadata": {
    "collapsed": false,
    "ExecuteTime": {
     "end_time": "2024-03-28T22:11:13.496754Z",
     "start_time": "2024-03-28T22:11:13.493958Z"
    }
   },
   "id": "30f463cdbafbfef",
   "execution_count": 37
  },
  {
   "cell_type": "code",
   "outputs": [],
   "source": [
    "random_state = 4201312\n",
    "\n",
    "neo4j = Neo4JConnector.create_from_config(\"../config.ini\")"
   ],
   "metadata": {
    "collapsed": false,
    "ExecuteTime": {
     "end_time": "2024-03-28T21:52:53.924846Z",
     "start_time": "2024-03-28T21:52:51.841606Z"
    }
   },
   "id": "ef8082013c5f0133",
   "execution_count": 2
  },
  {
   "cell_type": "code",
   "outputs": [
    {
     "data": {
      "text/plain": "'DiGraph with 23 nodes and 22 edges'"
     },
     "execution_count": 99,
     "metadata": {},
     "output_type": "execute_result"
    }
   ],
   "source": [
    "g = nx.DiGraph()\n",
    "query = \"\"\"CALL {\n",
    "        MATCH (p:Player)-[pi:PLAYS_IN]->(pim:PlayerInMatch)\n",
    "        WITH p, COUNT(pim.matchID) AS matchesPlayed \n",
    "        WHERE matchesPlayed > 10\n",
    "        RETURN p\n",
    "        LIMIT 5\n",
    "    }\n",
    "    MATCH (p)-[pc:PLAYS_CHAMP]->(c:Champion), (p)-[hp:HAS_POSITION]->(pos:Position)\n",
    "    RETURN *\"\"\"\n",
    "\n",
    "neo4j.create_graph_from_query(graph=g, query=query)\n",
    "str(g)"
   ],
   "metadata": {
    "collapsed": false,
    "ExecuteTime": {
     "end_time": "2024-03-28T22:39:30.963051Z",
     "start_time": "2024-03-28T22:39:30.842580Z"
    }
   },
   "id": "758c31c42b96d090",
   "execution_count": 99
  },
  {
   "cell_type": "code",
   "outputs": [
    {
     "data": {
      "text/plain": "array([['뭘해도안될사나이', 'HAS_POSITION', 'BOT'],\n       ['뭘해도안될사나이', 'PLAYS_CHAMP', 'Xayah'],\n       ['뭘해도안될사나이', 'PLAYS_CHAMP', 'Caitlyn'],\n       ['뭘해도안될사나이', 'PLAYS_CHAMP', 'LeeSin'],\n       ['뭘해도안될사나이', 'PLAYS_CHAMP', 'Ezreal'],\n       ['뭘해도안될사나이', 'PLAYS_CHAMP', 'MissFortune'],\n       ['LeanGreco', 'HAS_POSITION', 'SUP'],\n       ['LeanGreco', 'PLAYS_CHAMP', 'Zilean'],\n       ['LeanGreco', 'HAS_POSITION', 'MID'],\n       ['뭬테오', 'HAS_POSITION', 'MID'],\n       ['뭬테오', 'PLAYS_CHAMP', 'Irelia'],\n       ['뭬테오', 'PLAYS_CHAMP', 'Aatrox'],\n       ['뭬테오', 'PLAYS_CHAMP', 'LeeSin'],\n       ['뭬테오', 'PLAYS_CHAMP', 'Yasuo'],\n       ['뭬테오', 'PLAYS_CHAMP', 'Lucian'],\n       ['뭬테오', 'HAS_POSITION', 'SUP'],\n       ['I Love blade', 'HAS_POSITION', 'TOP'],\n       ['I Love blade', 'PLAYS_CHAMP', 'Mordekaiser'],\n       ['I Love blade', 'PLAYS_CHAMP', 'Nocturne'],\n       ['I Love blade', 'PLAYS_CHAMP', 'Sett'],\n       ['I Love blade', 'PLAYS_CHAMP', 'Ornn'],\n       ['I Love blade', 'PLAYS_CHAMP', 'Darius']], dtype='<U12')"
     },
     "execution_count": 100,
     "metadata": {},
     "output_type": "execute_result"
    }
   ],
   "source": [
    "triplets = np.array([[g.nodes[x[0]][\"properties\"][\"summonerName\"],\n",
    "  g.edges[x][\"type\"],\n",
    "  g.nodes[x[1]][\"properties\"][\"championID\" if g.edges[x][\"type\"] == \"PLAYS_CHAMP\" else \"positionID\"]]\n",
    "  for x in g.edges])\n",
    "\n",
    "triplets"
   ],
   "metadata": {
    "collapsed": false,
    "ExecuteTime": {
     "end_time": "2024-03-28T22:39:32.327034Z",
     "start_time": "2024-03-28T22:39:32.323353Z"
    }
   },
   "id": "66f967095a0a1918",
   "execution_count": 100
  },
  {
   "cell_type": "code",
   "outputs": [
    {
     "ename": "ValueError",
     "evalue": "Could not find a coverage of all entities and relation with only 17 triples.",
     "output_type": "error",
     "traceback": [
      "\u001B[1;31m---------------------------------------------------------------------------\u001B[0m",
      "\u001B[1;31mValueError\u001B[0m                                Traceback (most recent call last)",
      "Cell \u001B[1;32mIn[101], line 2\u001B[0m\n\u001B[0;32m      1\u001B[0m tf_full \u001B[38;5;241m=\u001B[39m TriplesFactory\u001B[38;5;241m.\u001B[39mfrom_labeled_triples(triplets)\n\u001B[1;32m----> 2\u001B[0m training, testing, validation \u001B[38;5;241m=\u001B[39m \u001B[43mtf_full\u001B[49m\u001B[38;5;241;43m.\u001B[39;49m\u001B[43msplit\u001B[49m\u001B[43m(\u001B[49m\u001B[43m[\u001B[49m\u001B[38;5;241;43m.8\u001B[39;49m\u001B[43m,\u001B[49m\u001B[43m \u001B[49m\u001B[38;5;241;43m.1\u001B[39;49m\u001B[43m,\u001B[49m\u001B[43m \u001B[49m\u001B[38;5;241;43m.1\u001B[39;49m\u001B[43m]\u001B[49m\u001B[43m,\u001B[49m\u001B[43m \u001B[49m\u001B[43mrandom_state\u001B[49m\u001B[38;5;241;43m=\u001B[39;49m\u001B[43mrandom_state\u001B[49m\u001B[43m)\u001B[49m\n",
      "File \u001B[1;32m~\\PycharmProjects\\LOLKnowledgeGraph\\.venv\\Lib\\site-packages\\pykeen\\triples\\triples_factory.py:612\u001B[0m, in \u001B[0;36mCoreTriplesFactory.split\u001B[1;34m(self, ratios, random_state, randomize_cleanup, method)\u001B[0m\n\u001B[0;32m    569\u001B[0m \u001B[38;5;250m\u001B[39m\u001B[38;5;124;03m\"\"\"Split a triples factory into a train/test.\u001B[39;00m\n\u001B[0;32m    570\u001B[0m \n\u001B[0;32m    571\u001B[0m \u001B[38;5;124;03m:param ratios:\u001B[39;00m\n\u001B[1;32m   (...)\u001B[0m\n\u001B[0;32m    602\u001B[0m \u001B[38;5;124;03m    training_factory, testing_factory, validation_factory = factory.split(ratios)\u001B[39;00m\n\u001B[0;32m    603\u001B[0m \u001B[38;5;124;03m\"\"\"\u001B[39;00m\n\u001B[0;32m    604\u001B[0m \u001B[38;5;66;03m# Make new triples factories for each group\u001B[39;00m\n\u001B[0;32m    605\u001B[0m \u001B[38;5;28;01mreturn\u001B[39;00m [\n\u001B[0;32m    606\u001B[0m     \u001B[38;5;28mself\u001B[39m\u001B[38;5;241m.\u001B[39mclone_and_exchange_triples(\n\u001B[0;32m    607\u001B[0m         mapped_triples\u001B[38;5;241m=\u001B[39mtriples,\n\u001B[0;32m    608\u001B[0m         \u001B[38;5;66;03m# do not explicitly create inverse triples for testing; this is handled by the evaluation code\u001B[39;00m\n\u001B[0;32m    609\u001B[0m         create_inverse_triples\u001B[38;5;241m=\u001B[39m\u001B[38;5;28;01mNone\u001B[39;00m \u001B[38;5;28;01mif\u001B[39;00m i \u001B[38;5;241m==\u001B[39m \u001B[38;5;241m0\u001B[39m \u001B[38;5;28;01melse\u001B[39;00m \u001B[38;5;28;01mFalse\u001B[39;00m,\n\u001B[0;32m    610\u001B[0m     )\n\u001B[0;32m    611\u001B[0m     \u001B[38;5;28;01mfor\u001B[39;00m i, triples \u001B[38;5;129;01min\u001B[39;00m \u001B[38;5;28menumerate\u001B[39m(\n\u001B[1;32m--> 612\u001B[0m         \u001B[43msplit\u001B[49m\u001B[43m(\u001B[49m\n\u001B[0;32m    613\u001B[0m \u001B[43m            \u001B[49m\u001B[43mmapped_triples\u001B[49m\u001B[38;5;241;43m=\u001B[39;49m\u001B[38;5;28;43mself\u001B[39;49m\u001B[38;5;241;43m.\u001B[39;49m\u001B[43mmapped_triples\u001B[49m\u001B[43m,\u001B[49m\n\u001B[0;32m    614\u001B[0m \u001B[43m            \u001B[49m\u001B[43mratios\u001B[49m\u001B[38;5;241;43m=\u001B[39;49m\u001B[43mratios\u001B[49m\u001B[43m,\u001B[49m\n\u001B[0;32m    615\u001B[0m \u001B[43m            \u001B[49m\u001B[43mrandom_state\u001B[49m\u001B[38;5;241;43m=\u001B[39;49m\u001B[43mrandom_state\u001B[49m\u001B[43m,\u001B[49m\n\u001B[0;32m    616\u001B[0m \u001B[43m            \u001B[49m\u001B[43mrandomize_cleanup\u001B[49m\u001B[38;5;241;43m=\u001B[39;49m\u001B[43mrandomize_cleanup\u001B[49m\u001B[43m,\u001B[49m\n\u001B[0;32m    617\u001B[0m \u001B[43m            \u001B[49m\u001B[43mmethod\u001B[49m\u001B[38;5;241;43m=\u001B[39;49m\u001B[43mmethod\u001B[49m\u001B[43m,\u001B[49m\n\u001B[0;32m    618\u001B[0m \u001B[43m        \u001B[49m\u001B[43m)\u001B[49m\n\u001B[0;32m    619\u001B[0m     )\n\u001B[0;32m    620\u001B[0m ]\n",
      "File \u001B[1;32m~\\PycharmProjects\\LOLKnowledgeGraph\\.venv\\Lib\\site-packages\\pykeen\\triples\\splitting.py:509\u001B[0m, in \u001B[0;36msplit\u001B[1;34m(mapped_triples, ratios, random_state, randomize_cleanup, method)\u001B[0m\n\u001B[0;32m    507\u001B[0m \u001B[38;5;28;01mif\u001B[39;00m splitter_cls \u001B[38;5;129;01mis\u001B[39;00m CleanupSplitter \u001B[38;5;129;01mand\u001B[39;00m randomize_cleanup:\n\u001B[0;32m    508\u001B[0m     kwargs[\u001B[38;5;124m\"\u001B[39m\u001B[38;5;124mcleaner\u001B[39m\u001B[38;5;124m\"\u001B[39m] \u001B[38;5;241m=\u001B[39m cleaner_resolver\u001B[38;5;241m.\u001B[39mnormalize_cls(RandomizedCleaner)\n\u001B[1;32m--> 509\u001B[0m \u001B[38;5;28;01mreturn\u001B[39;00m \u001B[43msplitter_resolver\u001B[49m\u001B[38;5;241;43m.\u001B[39;49m\u001B[43mmake\u001B[49m\u001B[43m(\u001B[49m\u001B[43msplitter_cls\u001B[49m\u001B[43m,\u001B[49m\u001B[43m \u001B[49m\u001B[43mpos_kwargs\u001B[49m\u001B[38;5;241;43m=\u001B[39;49m\u001B[43mkwargs\u001B[49m\u001B[43m)\u001B[49m\u001B[38;5;241;43m.\u001B[39;49m\u001B[43msplit\u001B[49m\u001B[43m(\u001B[49m\n\u001B[0;32m    510\u001B[0m \u001B[43m    \u001B[49m\u001B[43mmapped_triples\u001B[49m\u001B[38;5;241;43m=\u001B[39;49m\u001B[43mmapped_triples\u001B[49m\u001B[43m,\u001B[49m\n\u001B[0;32m    511\u001B[0m \u001B[43m    \u001B[49m\u001B[43mratios\u001B[49m\u001B[38;5;241;43m=\u001B[39;49m\u001B[43mratios\u001B[49m\u001B[43m,\u001B[49m\n\u001B[0;32m    512\u001B[0m \u001B[43m    \u001B[49m\u001B[43mrandom_state\u001B[49m\u001B[38;5;241;43m=\u001B[39;49m\u001B[43mrandom_state\u001B[49m\u001B[43m,\u001B[49m\n\u001B[0;32m    513\u001B[0m \u001B[43m\u001B[49m\u001B[43m)\u001B[49m\n",
      "File \u001B[1;32m~\\PycharmProjects\\LOLKnowledgeGraph\\.venv\\Lib\\site-packages\\pykeen\\triples\\splitting.py:381\u001B[0m, in \u001B[0;36mSplitter.split\u001B[1;34m(self, mapped_triples, ratios, random_state)\u001B[0m\n\u001B[0;32m    379\u001B[0m ratios \u001B[38;5;241m=\u001B[39m normalize_ratios(ratios\u001B[38;5;241m=\u001B[39mratios)\n\u001B[0;32m    380\u001B[0m sizes \u001B[38;5;241m=\u001B[39m get_absolute_split_sizes(n_total\u001B[38;5;241m=\u001B[39mmapped_triples\u001B[38;5;241m.\u001B[39mshape[\u001B[38;5;241m0\u001B[39m], ratios\u001B[38;5;241m=\u001B[39mratios)\n\u001B[1;32m--> 381\u001B[0m triples_groups \u001B[38;5;241m=\u001B[39m \u001B[38;5;28;43mself\u001B[39;49m\u001B[38;5;241;43m.\u001B[39;49m\u001B[43msplit_absolute_size\u001B[49m\u001B[43m(\u001B[49m\n\u001B[0;32m    382\u001B[0m \u001B[43m    \u001B[49m\u001B[43mmapped_triples\u001B[49m\u001B[38;5;241;43m=\u001B[39;49m\u001B[43mmapped_triples\u001B[49m\u001B[43m,\u001B[49m\n\u001B[0;32m    383\u001B[0m \u001B[43m    \u001B[49m\u001B[43msizes\u001B[49m\u001B[38;5;241;43m=\u001B[39;49m\u001B[43msizes\u001B[49m\u001B[43m,\u001B[49m\n\u001B[0;32m    384\u001B[0m \u001B[43m    \u001B[49m\u001B[43mrandom_state\u001B[49m\u001B[38;5;241;43m=\u001B[39;49m\u001B[43mrandom_state\u001B[49m\u001B[43m,\u001B[49m\n\u001B[0;32m    385\u001B[0m \u001B[43m\u001B[49m\u001B[43m)\u001B[49m\n\u001B[0;32m    386\u001B[0m \u001B[38;5;28;01mfor\u001B[39;00m i, (triples, exp_size, exp_ratio) \u001B[38;5;129;01min\u001B[39;00m \u001B[38;5;28menumerate\u001B[39m(\u001B[38;5;28mzip\u001B[39m(triples_groups, sizes, ratios)):\n\u001B[0;32m    387\u001B[0m     actual_size \u001B[38;5;241m=\u001B[39m triples\u001B[38;5;241m.\u001B[39mshape[\u001B[38;5;241m0\u001B[39m]\n",
      "File \u001B[1;32m~\\PycharmProjects\\LOLKnowledgeGraph\\.venv\\Lib\\site-packages\\pykeen\\triples\\splitting.py:449\u001B[0m, in \u001B[0;36mCoverageSplitter.split_absolute_size\u001B[1;34m(self, mapped_triples, sizes, random_state)\u001B[0m\n\u001B[0;32m    447\u001B[0m remaining_triples \u001B[38;5;241m=\u001B[39m mapped_triples[\u001B[38;5;241m~\u001B[39mseed_mask]\n\u001B[0;32m    448\u001B[0m \u001B[38;5;28;01mif\u001B[39;00m train_seed\u001B[38;5;241m.\u001B[39mshape[\u001B[38;5;241m0\u001B[39m] \u001B[38;5;241m>\u001B[39m sizes[\u001B[38;5;241m0\u001B[39m]:\n\u001B[1;32m--> 449\u001B[0m     \u001B[38;5;28;01mraise\u001B[39;00m \u001B[38;5;167;01mValueError\u001B[39;00m(\u001B[38;5;124mf\u001B[39m\u001B[38;5;124m\"\u001B[39m\u001B[38;5;124mCould not find a coverage of all entities and relation with only \u001B[39m\u001B[38;5;132;01m{\u001B[39;00msizes[\u001B[38;5;241m0\u001B[39m]\u001B[38;5;132;01m}\u001B[39;00m\u001B[38;5;124m triples.\u001B[39m\u001B[38;5;124m\"\u001B[39m)\n\u001B[0;32m    450\u001B[0m remaining_sizes \u001B[38;5;241m=\u001B[39m (sizes[\u001B[38;5;241m0\u001B[39m] \u001B[38;5;241m-\u001B[39m train_seed\u001B[38;5;241m.\u001B[39mshape[\u001B[38;5;241m0\u001B[39m],) \u001B[38;5;241m+\u001B[39m \u001B[38;5;28mtuple\u001B[39m(sizes[\u001B[38;5;241m1\u001B[39m:])\n\u001B[0;32m    451\u001B[0m train, \u001B[38;5;241m*\u001B[39mrest \u001B[38;5;241m=\u001B[39m _split_triples(\n\u001B[0;32m    452\u001B[0m     mapped_triples\u001B[38;5;241m=\u001B[39mremaining_triples,\n\u001B[0;32m    453\u001B[0m     sizes\u001B[38;5;241m=\u001B[39mremaining_sizes,\n\u001B[0;32m    454\u001B[0m     random_state\u001B[38;5;241m=\u001B[39mrandom_state,\n\u001B[0;32m    455\u001B[0m )\n",
      "\u001B[1;31mValueError\u001B[0m: Could not find a coverage of all entities and relation with only 17 triples."
     ]
    }
   ],
   "source": [
    "tf_full = TriplesFactory.from_labeled_triples(triplets)\n",
    "training, testing, validation = tf_full.split([.8, .1, .1], random_state=random_state)"
   ],
   "metadata": {
    "collapsed": false,
    "ExecuteTime": {
     "end_time": "2024-03-28T22:39:33.591502Z",
     "start_time": "2024-03-28T22:39:33.544562Z"
    }
   },
   "id": "a199ac028da4fdf9",
   "execution_count": 101
  },
  {
   "cell_type": "code",
   "outputs": [
    {
     "name": "stderr",
     "output_type": "stream",
     "text": [
      "WARNING:pykeen.pipeline.api:No random seed is specified. Setting to 2433691936.\n",
      "INFO:pykeen.pipeline.api:Using device: cuda\n"
     ]
    },
    {
     "data": {
      "text/plain": "Training epochs on cuda:0:   0%|          | 0/50 [00:00<?, ?epoch/s]",
      "application/vnd.jupyter.widget-view+json": {
       "version_major": 2,
       "version_minor": 0,
       "model_id": "f67d3bb1ec5e484da60cfe0f90598612"
      }
     },
     "metadata": {},
     "output_type": "display_data"
    },
    {
     "data": {
      "text/plain": "Evaluating on cuda:0:   0%|          | 0.00/3.91k [00:00<?, ?triple/s]",
      "application/vnd.jupyter.widget-view+json": {
       "version_major": 2,
       "version_minor": 0,
       "model_id": "aa979b1a953447b6b1f4249febab2de6"
      }
     },
     "metadata": {},
     "output_type": "display_data"
    },
    {
     "name": "stderr",
     "output_type": "stream",
     "text": [
      "INFO:pykeen.evaluation.evaluator:Evaluation took 0.23s seconds\n"
     ]
    }
   ],
   "source": [
    "from pykeen.pipeline import pipeline\n",
    "\n",
    "result = pipeline(\n",
    "    model='RotatE',\n",
    "    loss=\"softplus\",\n",
    "    training=training,\n",
    "    testing=testing,\n",
    "    validation=validation,\n",
    "    model_kwargs=dict(embedding_dim=3, random_seed=42),  # Increase the embedding dimension\n",
    "    optimizer_kwargs=dict(lr=0.1),  # Adjust the learning rate\n",
    "    training_kwargs=dict(num_epochs=50, use_tqdm_batch=False),  # Increase the number of epochs\n",
    "    device=\"cuda\"\n",
    ")"
   ],
   "metadata": {
    "collapsed": false,
    "ExecuteTime": {
     "end_time": "2024-03-28T22:43:18.364859Z",
     "start_time": "2024-03-28T22:42:53.540785Z"
    }
   },
   "id": "79b27308b3ee7e08",
   "execution_count": 107
  },
  {
   "cell_type": "code",
   "outputs": [
    {
     "data": {
      "text/plain": "<Axes: title={'center': 'Losses Plot'}, xlabel='Epoch', ylabel='softplus Loss'>"
     },
     "execution_count": 108,
     "metadata": {},
     "output_type": "execute_result"
    },
    {
     "data": {
      "text/plain": "<Figure size 640x480 with 1 Axes>",
      "image/png": "[encoded data removed]"
     },
     "metadata": {},
     "output_type": "display_data"
    }
   ],
   "source": [
    "model = result.model\n",
    "\n",
    "#plot loss\n",
    "result.plot_losses()"
   ],
   "metadata": {
    "collapsed": false,
    "ExecuteTime": {
     "end_time": "2024-03-28T22:43:18.461073Z",
     "start_time": "2024-03-28T22:43:18.364859Z"
    }
   },
   "id": "4ad7a76d54b00427",
   "execution_count": 108
  },
  {
   "cell_type": "code",
   "outputs": [
    {
     "data": {
      "text/plain": "Evaluating on cuda:0:   0%|          | 0.00/3.91k [00:00<?, ?triple/s]",
      "application/vnd.jupyter.widget-view+json": {
       "version_major": 2,
       "version_minor": 0,
       "model_id": "038b2f239ab54f64a01f550fef2b9659"
      }
     },
     "metadata": {},
     "output_type": "display_data"
    },
    {
     "name": "stderr",
     "output_type": "stream",
     "text": [
      "INFO:pykeen.evaluation.evaluator:Evaluation took 0.16s seconds\n"
     ]
    },
    {
     "name": "stdout",
     "output_type": "stream",
     "text": [
      "Hits@1: 0.018807574206755374\n",
      "Hits@3: 0.05974923234390993\n",
      "Hits@5: 0.09327021494370522\n",
      "Hits@10: 0.16542988741044012\n",
      "Mean Reciprocal Rank: 0.06600545346736908\n"
     ]
    }
   ],
   "source": [
    "from pykeen.evaluation import RankBasedEvaluator\n",
    "# The result object also contains the evaluation metrics result.metric_results.to_df()\n",
    "\n",
    "# Create an evaluator\n",
    "evaluator = RankBasedEvaluator()\n",
    "\n",
    "# Evaluate the model\n",
    "metrics = evaluator.evaluate(result.model, testing.mapped_triples, additional_filter_triples=[training.mapped_triples, validation.mapped_triples])\n",
    "\n",
    "# Print the metrics\n",
    "print(f\"Hits@1: {metrics.get_metric('hits@1')}\")\n",
    "print(f\"Hits@3: {metrics.get_metric('hits@3')}\")\n",
    "print(f\"Hits@5: {metrics.get_metric('hits@5')}\")\n",
    "print(f\"Hits@10: {metrics.get_metric('hits@10')}\")\n",
    "print(f\"Mean Reciprocal Rank: {metrics.get_metric('mean_reciprocal_rank')}\")"
   ],
   "metadata": {
    "collapsed": false,
    "ExecuteTime": {
     "end_time": "2024-03-28T22:43:18.629522Z",
     "start_time": "2024-03-28T22:43:18.461073Z"
    }
   },
   "id": "db5ee879932c6e98",
   "execution_count": 109
  },
  {
   "cell_type": "code",
   "outputs": [],
   "source": [
    "id_to_entity={v: k for k, v in training.entity_to_id.items()}\n",
    "id_to_relation={v: k for k, v in training.relation_to_id.items()}"
   ],
   "metadata": {
    "collapsed": false,
    "ExecuteTime": {
     "end_time": "2024-03-28T22:43:18.634030Z",
     "start_time": "2024-03-28T22:43:18.630527Z"
    }
   },
   "id": "cc4807ee0f3137fc",
   "execution_count": 110
  },
  {
   "cell_type": "code",
   "outputs": [
    {
     "ename": "ValueError",
     "evalue": "Complex data not supported\n[[ 1.9122461 +2.320268j   -0.10854317+0.21762533j -0.78925335-0.64469343j]\n [ 1.7497166 +2.0427687j  -0.05955952+0.49008903j -1.0202916 -0.1845856j ]\n [ 2.3202546 +2.0388029j   0.17995402+0.3097526j  -0.5938022 -0.67018294j]\n ...\n [ 1.5346836 +2.072058j   -0.3882595 -0.1178201j  -0.7757228 -0.53811306j]\n [ 1.8287237 +2.3732054j  -0.00656068+0.10800394j -0.47666734-0.41234207j]\n [ 1.5997305 +1.9809577j  -0.9652589 +0.13568759j -1.7578248 -1.4886686j ]]\n",
     "output_type": "error",
     "traceback": [
      "\u001B[1;31m---------------------------------------------------------------------------\u001B[0m",
      "\u001B[1;31mComplexWarning\u001B[0m                            Traceback (most recent call last)",
      "File \u001B[1;32m~\\PycharmProjects\\LOLKnowledgeGraph\\.venv\\Lib\\site-packages\\sklearn\\utils\\validation.py:997\u001B[0m, in \u001B[0;36mcheck_array\u001B[1;34m(array, accept_sparse, accept_large_sparse, dtype, order, copy, force_all_finite, ensure_2d, allow_nd, ensure_min_samples, ensure_min_features, estimator, input_name)\u001B[0m\n\u001B[0;32m    996\u001B[0m     \u001B[38;5;28;01melse\u001B[39;00m:\n\u001B[1;32m--> 997\u001B[0m         array \u001B[38;5;241m=\u001B[39m \u001B[43m_asarray_with_order\u001B[49m\u001B[43m(\u001B[49m\u001B[43marray\u001B[49m\u001B[43m,\u001B[49m\u001B[43m \u001B[49m\u001B[43morder\u001B[49m\u001B[38;5;241;43m=\u001B[39;49m\u001B[43morder\u001B[49m\u001B[43m,\u001B[49m\u001B[43m \u001B[49m\u001B[43mdtype\u001B[49m\u001B[38;5;241;43m=\u001B[39;49m\u001B[43mdtype\u001B[49m\u001B[43m,\u001B[49m\u001B[43m \u001B[49m\u001B[43mxp\u001B[49m\u001B[38;5;241;43m=\u001B[39;49m\u001B[43mxp\u001B[49m\u001B[43m)\u001B[49m\n\u001B[0;32m    998\u001B[0m \u001B[38;5;28;01mexcept\u001B[39;00m ComplexWarning \u001B[38;5;28;01mas\u001B[39;00m complex_warning:\n",
      "File \u001B[1;32m~\\PycharmProjects\\LOLKnowledgeGraph\\.venv\\Lib\\site-packages\\sklearn\\utils\\_array_api.py:521\u001B[0m, in \u001B[0;36m_asarray_with_order\u001B[1;34m(array, dtype, order, copy, xp)\u001B[0m\n\u001B[0;32m    520\u001B[0m \u001B[38;5;28;01melse\u001B[39;00m:\n\u001B[1;32m--> 521\u001B[0m     array \u001B[38;5;241m=\u001B[39m numpy\u001B[38;5;241m.\u001B[39masarray(array, order\u001B[38;5;241m=\u001B[39morder, dtype\u001B[38;5;241m=\u001B[39mdtype)\n\u001B[0;32m    523\u001B[0m \u001B[38;5;66;03m# At this point array is a NumPy ndarray. We convert it to an array\u001B[39;00m\n\u001B[0;32m    524\u001B[0m \u001B[38;5;66;03m# container that is consistent with the input's namespace.\u001B[39;00m\n",
      "\u001B[1;31mComplexWarning\u001B[0m: Casting complex values to real discards the imaginary part",
      "\nThe above exception was the direct cause of the following exception:\n",
      "\u001B[1;31mValueError\u001B[0m                                Traceback (most recent call last)",
      "Cell \u001B[1;32mIn[111], line 8\u001B[0m\n\u001B[0;32m      6\u001B[0m pca \u001B[38;5;241m=\u001B[39m PCA(n_components\u001B[38;5;241m=\u001B[39m\u001B[38;5;241m2\u001B[39m)\n\u001B[0;32m      7\u001B[0m entity_embeddings \u001B[38;5;241m=\u001B[39m model\u001B[38;5;241m.\u001B[39mentity_representations[\u001B[38;5;241m0\u001B[39m](indices\u001B[38;5;241m=\u001B[39m\u001B[38;5;28;01mNone\u001B[39;00m)\u001B[38;5;241m.\u001B[39mcpu()\u001B[38;5;241m.\u001B[39mdetach()\u001B[38;5;241m.\u001B[39mnumpy()\n\u001B[1;32m----> 8\u001B[0m m \u001B[38;5;241m=\u001B[39m \u001B[43mpca\u001B[49m\u001B[38;5;241;43m.\u001B[39;49m\u001B[43mfit\u001B[49m\u001B[43m(\u001B[49m\u001B[43mentity_embeddings\u001B[49m\u001B[43m)\u001B[49m\n\u001B[0;32m     10\u001B[0m eu \u001B[38;5;241m=\u001B[39m m\u001B[38;5;241m.\u001B[39mtransform(entity_embeddings)\n\u001B[0;32m     11\u001B[0m \u001B[38;5;66;03m# plt.plot(eu[:, 0], eu[:, 1],'.b')\u001B[39;00m\n",
      "File \u001B[1;32m~\\PycharmProjects\\LOLKnowledgeGraph\\.venv\\Lib\\site-packages\\sklearn\\base.py:1474\u001B[0m, in \u001B[0;36m_fit_context.<locals>.decorator.<locals>.wrapper\u001B[1;34m(estimator, *args, **kwargs)\u001B[0m\n\u001B[0;32m   1467\u001B[0m     estimator\u001B[38;5;241m.\u001B[39m_validate_params()\n\u001B[0;32m   1469\u001B[0m \u001B[38;5;28;01mwith\u001B[39;00m config_context(\n\u001B[0;32m   1470\u001B[0m     skip_parameter_validation\u001B[38;5;241m=\u001B[39m(\n\u001B[0;32m   1471\u001B[0m         prefer_skip_nested_validation \u001B[38;5;129;01mor\u001B[39;00m global_skip_validation\n\u001B[0;32m   1472\u001B[0m     )\n\u001B[0;32m   1473\u001B[0m ):\n\u001B[1;32m-> 1474\u001B[0m     \u001B[38;5;28;01mreturn\u001B[39;00m \u001B[43mfit_method\u001B[49m\u001B[43m(\u001B[49m\u001B[43mestimator\u001B[49m\u001B[43m,\u001B[49m\u001B[43m \u001B[49m\u001B[38;5;241;43m*\u001B[39;49m\u001B[43margs\u001B[49m\u001B[43m,\u001B[49m\u001B[43m \u001B[49m\u001B[38;5;241;43m*\u001B[39;49m\u001B[38;5;241;43m*\u001B[39;49m\u001B[43mkwargs\u001B[49m\u001B[43m)\u001B[49m\n",
      "File \u001B[1;32m~\\PycharmProjects\\LOLKnowledgeGraph\\.venv\\Lib\\site-packages\\sklearn\\decomposition\\_pca.py:428\u001B[0m, in \u001B[0;36mPCA.fit\u001B[1;34m(self, X, y)\u001B[0m\n\u001B[0;32m    410\u001B[0m \u001B[38;5;129m@_fit_context\u001B[39m(prefer_skip_nested_validation\u001B[38;5;241m=\u001B[39m\u001B[38;5;28;01mTrue\u001B[39;00m)\n\u001B[0;32m    411\u001B[0m \u001B[38;5;28;01mdef\u001B[39;00m \u001B[38;5;21mfit\u001B[39m(\u001B[38;5;28mself\u001B[39m, X, y\u001B[38;5;241m=\u001B[39m\u001B[38;5;28;01mNone\u001B[39;00m):\n\u001B[0;32m    412\u001B[0m \u001B[38;5;250m    \u001B[39m\u001B[38;5;124;03m\"\"\"Fit the model with X.\u001B[39;00m\n\u001B[0;32m    413\u001B[0m \n\u001B[0;32m    414\u001B[0m \u001B[38;5;124;03m    Parameters\u001B[39;00m\n\u001B[1;32m   (...)\u001B[0m\n\u001B[0;32m    426\u001B[0m \u001B[38;5;124;03m        Returns the instance itself.\u001B[39;00m\n\u001B[0;32m    427\u001B[0m \u001B[38;5;124;03m    \"\"\"\u001B[39;00m\n\u001B[1;32m--> 428\u001B[0m     \u001B[38;5;28;43mself\u001B[39;49m\u001B[38;5;241;43m.\u001B[39;49m\u001B[43m_fit\u001B[49m\u001B[43m(\u001B[49m\u001B[43mX\u001B[49m\u001B[43m)\u001B[49m\n\u001B[0;32m    429\u001B[0m     \u001B[38;5;28;01mreturn\u001B[39;00m \u001B[38;5;28mself\u001B[39m\n",
      "File \u001B[1;32m~\\PycharmProjects\\LOLKnowledgeGraph\\.venv\\Lib\\site-packages\\sklearn\\decomposition\\_pca.py:483\u001B[0m, in \u001B[0;36mPCA._fit\u001B[1;34m(self, X)\u001B[0m\n\u001B[0;32m    478\u001B[0m \u001B[38;5;28;01mif\u001B[39;00m \u001B[38;5;28mself\u001B[39m\u001B[38;5;241m.\u001B[39msvd_solver \u001B[38;5;241m==\u001B[39m \u001B[38;5;124m\"\u001B[39m\u001B[38;5;124marpack\u001B[39m\u001B[38;5;124m\"\u001B[39m \u001B[38;5;129;01mand\u001B[39;00m is_array_api_compliant:\n\u001B[0;32m    479\u001B[0m     \u001B[38;5;28;01mraise\u001B[39;00m \u001B[38;5;167;01mValueError\u001B[39;00m(\n\u001B[0;32m    480\u001B[0m         \u001B[38;5;124m\"\u001B[39m\u001B[38;5;124mPCA with svd_solver=\u001B[39m\u001B[38;5;124m'\u001B[39m\u001B[38;5;124marpack\u001B[39m\u001B[38;5;124m'\u001B[39m\u001B[38;5;124m is not supported for Array API inputs.\u001B[39m\u001B[38;5;124m\"\u001B[39m\n\u001B[0;32m    481\u001B[0m     )\n\u001B[1;32m--> 483\u001B[0m X \u001B[38;5;241m=\u001B[39m \u001B[38;5;28;43mself\u001B[39;49m\u001B[38;5;241;43m.\u001B[39;49m\u001B[43m_validate_data\u001B[49m\u001B[43m(\u001B[49m\n\u001B[0;32m    484\u001B[0m \u001B[43m    \u001B[49m\u001B[43mX\u001B[49m\u001B[43m,\u001B[49m\n\u001B[0;32m    485\u001B[0m \u001B[43m    \u001B[49m\u001B[43mdtype\u001B[49m\u001B[38;5;241;43m=\u001B[39;49m\u001B[43m[\u001B[49m\u001B[43mxp\u001B[49m\u001B[38;5;241;43m.\u001B[39;49m\u001B[43mfloat64\u001B[49m\u001B[43m,\u001B[49m\u001B[43m \u001B[49m\u001B[43mxp\u001B[49m\u001B[38;5;241;43m.\u001B[39;49m\u001B[43mfloat32\u001B[49m\u001B[43m]\u001B[49m\u001B[43m,\u001B[49m\n\u001B[0;32m    486\u001B[0m \u001B[43m    \u001B[49m\u001B[43maccept_sparse\u001B[49m\u001B[38;5;241;43m=\u001B[39;49m\u001B[43m(\u001B[49m\u001B[38;5;124;43m\"\u001B[39;49m\u001B[38;5;124;43mcsr\u001B[39;49m\u001B[38;5;124;43m\"\u001B[39;49m\u001B[43m,\u001B[49m\u001B[43m \u001B[49m\u001B[38;5;124;43m\"\u001B[39;49m\u001B[38;5;124;43mcsc\u001B[39;49m\u001B[38;5;124;43m\"\u001B[39;49m\u001B[43m)\u001B[49m\u001B[43m,\u001B[49m\n\u001B[0;32m    487\u001B[0m \u001B[43m    \u001B[49m\u001B[43mensure_2d\u001B[49m\u001B[38;5;241;43m=\u001B[39;49m\u001B[38;5;28;43;01mTrue\u001B[39;49;00m\u001B[43m,\u001B[49m\n\u001B[0;32m    488\u001B[0m \u001B[43m    \u001B[49m\u001B[43mcopy\u001B[49m\u001B[38;5;241;43m=\u001B[39;49m\u001B[38;5;28;43mself\u001B[39;49m\u001B[38;5;241;43m.\u001B[39;49m\u001B[43mcopy\u001B[49m\u001B[43m,\u001B[49m\n\u001B[0;32m    489\u001B[0m \u001B[43m\u001B[49m\u001B[43m)\u001B[49m\n\u001B[0;32m    491\u001B[0m \u001B[38;5;66;03m# Handle n_components==None\u001B[39;00m\n\u001B[0;32m    492\u001B[0m \u001B[38;5;28;01mif\u001B[39;00m \u001B[38;5;28mself\u001B[39m\u001B[38;5;241m.\u001B[39mn_components \u001B[38;5;129;01mis\u001B[39;00m \u001B[38;5;28;01mNone\u001B[39;00m:\n",
      "File \u001B[1;32m~\\PycharmProjects\\LOLKnowledgeGraph\\.venv\\Lib\\site-packages\\sklearn\\base.py:633\u001B[0m, in \u001B[0;36mBaseEstimator._validate_data\u001B[1;34m(self, X, y, reset, validate_separately, cast_to_ndarray, **check_params)\u001B[0m\n\u001B[0;32m    631\u001B[0m         out \u001B[38;5;241m=\u001B[39m X, y\n\u001B[0;32m    632\u001B[0m \u001B[38;5;28;01melif\u001B[39;00m \u001B[38;5;129;01mnot\u001B[39;00m no_val_X \u001B[38;5;129;01mand\u001B[39;00m no_val_y:\n\u001B[1;32m--> 633\u001B[0m     out \u001B[38;5;241m=\u001B[39m \u001B[43mcheck_array\u001B[49m\u001B[43m(\u001B[49m\u001B[43mX\u001B[49m\u001B[43m,\u001B[49m\u001B[43m \u001B[49m\u001B[43minput_name\u001B[49m\u001B[38;5;241;43m=\u001B[39;49m\u001B[38;5;124;43m\"\u001B[39;49m\u001B[38;5;124;43mX\u001B[39;49m\u001B[38;5;124;43m\"\u001B[39;49m\u001B[43m,\u001B[49m\u001B[43m \u001B[49m\u001B[38;5;241;43m*\u001B[39;49m\u001B[38;5;241;43m*\u001B[39;49m\u001B[43mcheck_params\u001B[49m\u001B[43m)\u001B[49m\n\u001B[0;32m    634\u001B[0m \u001B[38;5;28;01melif\u001B[39;00m no_val_X \u001B[38;5;129;01mand\u001B[39;00m \u001B[38;5;129;01mnot\u001B[39;00m no_val_y:\n\u001B[0;32m    635\u001B[0m     out \u001B[38;5;241m=\u001B[39m _check_y(y, \u001B[38;5;241m*\u001B[39m\u001B[38;5;241m*\u001B[39mcheck_params)\n",
      "File \u001B[1;32m~\\PycharmProjects\\LOLKnowledgeGraph\\.venv\\Lib\\site-packages\\sklearn\\utils\\validation.py:999\u001B[0m, in \u001B[0;36mcheck_array\u001B[1;34m(array, accept_sparse, accept_large_sparse, dtype, order, copy, force_all_finite, ensure_2d, allow_nd, ensure_min_samples, ensure_min_features, estimator, input_name)\u001B[0m\n\u001B[0;32m    997\u001B[0m             array \u001B[38;5;241m=\u001B[39m _asarray_with_order(array, order\u001B[38;5;241m=\u001B[39morder, dtype\u001B[38;5;241m=\u001B[39mdtype, xp\u001B[38;5;241m=\u001B[39mxp)\n\u001B[0;32m    998\u001B[0m     \u001B[38;5;28;01mexcept\u001B[39;00m ComplexWarning \u001B[38;5;28;01mas\u001B[39;00m complex_warning:\n\u001B[1;32m--> 999\u001B[0m         \u001B[38;5;28;01mraise\u001B[39;00m \u001B[38;5;167;01mValueError\u001B[39;00m(\n\u001B[0;32m   1000\u001B[0m             \u001B[38;5;124m\"\u001B[39m\u001B[38;5;124mComplex data not supported\u001B[39m\u001B[38;5;130;01m\\n\u001B[39;00m\u001B[38;5;132;01m{}\u001B[39;00m\u001B[38;5;130;01m\\n\u001B[39;00m\u001B[38;5;124m\"\u001B[39m\u001B[38;5;241m.\u001B[39mformat(array)\n\u001B[0;32m   1001\u001B[0m         ) \u001B[38;5;28;01mfrom\u001B[39;00m \u001B[38;5;21;01mcomplex_warning\u001B[39;00m\n\u001B[0;32m   1003\u001B[0m \u001B[38;5;66;03m# It is possible that the np.array(..) gave no warning. This happens\u001B[39;00m\n\u001B[0;32m   1004\u001B[0m \u001B[38;5;66;03m# when no dtype conversion happened, for example dtype = None. The\u001B[39;00m\n\u001B[0;32m   1005\u001B[0m \u001B[38;5;66;03m# result is that np.array(..) produces an array of complex dtype\u001B[39;00m\n\u001B[0;32m   1006\u001B[0m \u001B[38;5;66;03m# and we need to catch and raise exception for such cases.\u001B[39;00m\n\u001B[0;32m   1007\u001B[0m _ensure_no_complex_data(array)\n",
      "\u001B[1;31mValueError\u001B[0m: Complex data not supported\n[[ 1.9122461 +2.320268j   -0.10854317+0.21762533j -0.78925335-0.64469343j]\n [ 1.7497166 +2.0427687j  -0.05955952+0.49008903j -1.0202916 -0.1845856j ]\n [ 2.3202546 +2.0388029j   0.17995402+0.3097526j  -0.5938022 -0.67018294j]\n ...\n [ 1.5346836 +2.072058j   -0.3882595 -0.1178201j  -0.7757228 -0.53811306j]\n [ 1.8287237 +2.3732054j  -0.00656068+0.10800394j -0.47666734-0.41234207j]\n [ 1.5997305 +1.9809577j  -0.9652589 +0.13568759j -1.7578248 -1.4886686j ]]\n"
     ]
    },
    {
     "data": {
      "text/plain": "<Figure size 600x600 with 0 Axes>"
     },
     "metadata": {},
     "output_type": "display_data"
    }
   ],
   "source": [
    "import numpy as np\n",
    "import matplotlib.pyplot as plt\n",
    "from sklearn.decomposition import PCA\n",
    "\n",
    "plt.figure(figsize=(6, 6))\n",
    "pca = PCA(n_components=2)\n",
    "entity_embeddings = model.entity_representations[0](indices=None).cpu().detach().numpy()\n",
    "m = pca.fit(entity_embeddings)\n",
    "\n",
    "eu = m.transform(entity_embeddings)\n",
    "# plt.plot(eu[:, 0], eu[:, 1],'.b')\n",
    "for i, entity in enumerate(tf_full.entity_id_to_label):\n",
    "    plt.annotate(\n",
    "        text=id_to_entity[entity],\n",
    "        xy=(eu[i, 0], eu[i, 1]),\n",
    "        color=\"tab:blue\",\n",
    "        ha=\"center\", va=\"center\"\n",
    "    )\n",
    "\n",
    "    \n",
    "relation_embeddings = model.relation_representations[0](indices=None).cpu().detach().numpy()\n",
    "ru = pca.transform(relation_embeddings)\n",
    "for i, relation in enumerate(tf_full.relation_id_to_label):\n",
    "    plt.annotate(\n",
    "        text=id_to_relation[relation],\n",
    "        xy=(0,0), xytext=(ru[i, 0], ru[i, 1]),\n",
    "        arrowprops=dict(\n",
    "            arrowstyle=\"<-\",\n",
    "            color=\"tab:red\",\n",
    "            shrinkA=5,\n",
    "            shrinkB=5,\n",
    "            patchA=None,\n",
    "            patchB=None,\n",
    "            connectionstyle=\"arc3,rad=0.\"\n",
    "        )\n",
    "    )\n",
    "\n",
    "plt.xlim([-2, 2])\n",
    "plt.ylim([-1, 1])"
   ],
   "metadata": {
    "collapsed": false,
    "ExecuteTime": {
     "end_time": "2024-03-28T22:43:18.770501Z",
     "start_time": "2024-03-28T22:43:18.634030Z"
    }
   },
   "id": "5d873cf95a837ea7",
   "execution_count": 111
  },
  {
   "cell_type": "code",
   "outputs": [
    {
     "name": "stderr",
     "output_type": "stream",
     "text": [
      "WARNING:torch_max_mem.api:Encountered tensors on device_types={'cpu'} while only ['cuda'] are considered safe for automatic memory utilization maximization. This may lead to undocumented crashes (but can be safe, too).\n"
     ]
    },
    {
     "data": {
      "text/plain": "      head_id  head_label  relation_id relation_label  tail_id tail_label  \\\n0        1055  Jesus Dogs            0   HAS_POSITION     1703        SUP   \n1        1873       Talez            1    PLAYS_CHAMP     1252     Lucian   \n2        6073     챌린저카타장인            1    PLAYS_CHAMP     1107      Kaisa   \n3        3344      국대탑정광문            1    PLAYS_CHAMP      619     Darius   \n4        6098      청주 김병만            1    PLAYS_CHAMP     1874    Taliyah   \n...       ...         ...          ...            ...      ...        ...   \n3903     2659        mbxn            1    PLAYS_CHAMP     2068      Yasuo   \n3904      403   Baby gong            1    PLAYS_CHAMP     1068       Jinx   \n3905     2982        wnwn            1    PLAYS_CHAMP     2042      Xayah   \n3906      489        Ceno            1    PLAYS_CHAMP      842      Garen   \n3907     3567     나는왜원딜인가            1    PLAYS_CHAMP     1252     Lucian   \n\n          score  \n0     -6.944811  \n1     -8.027916  \n2     -8.939999  \n3     -8.504278  \n4     -8.844671  \n...         ...  \n3903  -7.473509  \n3904  -9.787330  \n3905  -8.860605  \n3906 -10.033367  \n3907  -8.421531  \n\n[3908 rows x 7 columns]",
      "text/html": "<div>\n<style scoped>\n    .dataframe tbody tr th:only-of-type {\n        vertical-align: middle;\n    }\n\n    .dataframe tbody tr th {\n        vertical-align: top;\n    }\n\n    .dataframe thead th {\n        text-align: right;\n    }\n</style>\n<table border=\"1\" class=\"dataframe\">\n  <thead>\n    <tr style=\"text-align: right;\">\n      <th></th>\n      <th>head_id</th>\n      <th>head_label</th>\n      <th>relation_id</th>\n      <th>relation_label</th>\n      <th>tail_id</th>\n      <th>tail_label</th>\n      <th>score</th>\n    </tr>\n  </thead>\n  <tbody>\n    <tr>\n      <th>0</th>\n      <td>1055</td>\n      <td>Jesus Dogs</td>\n      <td>0</td>\n      <td>HAS_POSITION</td>\n      <td>1703</td>\n      <td>SUP</td>\n      <td>-6.944811</td>\n    </tr>\n    <tr>\n      <th>1</th>\n      <td>1873</td>\n      <td>Talez</td>\n      <td>1</td>\n      <td>PLAYS_CHAMP</td>\n      <td>1252</td>\n      <td>Lucian</td>\n      <td>-8.027916</td>\n    </tr>\n    <tr>\n      <th>2</th>\n      <td>6073</td>\n      <td>챌린저카타장인</td>\n      <td>1</td>\n      <td>PLAYS_CHAMP</td>\n      <td>1107</td>\n      <td>Kaisa</td>\n      <td>-8.939999</td>\n    </tr>\n    <tr>\n      <th>3</th>\n      <td>3344</td>\n      <td>국대탑정광문</td>\n      <td>1</td>\n      <td>PLAYS_CHAMP</td>\n      <td>619</td>\n      <td>Darius</td>\n      <td>-8.504278</td>\n    </tr>\n    <tr>\n      <th>4</th>\n      <td>6098</td>\n      <td>청주 김병만</td>\n      <td>1</td>\n      <td>PLAYS_CHAMP</td>\n      <td>1874</td>\n      <td>Taliyah</td>\n      <td>-8.844671</td>\n    </tr>\n    <tr>\n      <th>...</th>\n      <td>...</td>\n      <td>...</td>\n      <td>...</td>\n      <td>...</td>\n      <td>...</td>\n      <td>...</td>\n      <td>...</td>\n    </tr>\n    <tr>\n      <th>3903</th>\n      <td>2659</td>\n      <td>mbxn</td>\n      <td>1</td>\n      <td>PLAYS_CHAMP</td>\n      <td>2068</td>\n      <td>Yasuo</td>\n      <td>-7.473509</td>\n    </tr>\n    <tr>\n      <th>3904</th>\n      <td>403</td>\n      <td>Baby gong</td>\n      <td>1</td>\n      <td>PLAYS_CHAMP</td>\n      <td>1068</td>\n      <td>Jinx</td>\n      <td>-9.787330</td>\n    </tr>\n    <tr>\n      <th>3905</th>\n      <td>2982</td>\n      <td>wnwn</td>\n      <td>1</td>\n      <td>PLAYS_CHAMP</td>\n      <td>2042</td>\n      <td>Xayah</td>\n      <td>-8.860605</td>\n    </tr>\n    <tr>\n      <th>3906</th>\n      <td>489</td>\n      <td>Ceno</td>\n      <td>1</td>\n      <td>PLAYS_CHAMP</td>\n      <td>842</td>\n      <td>Garen</td>\n      <td>-10.033367</td>\n    </tr>\n    <tr>\n      <th>3907</th>\n      <td>3567</td>\n      <td>나는왜원딜인가</td>\n      <td>1</td>\n      <td>PLAYS_CHAMP</td>\n      <td>1252</td>\n      <td>Lucian</td>\n      <td>-8.421531</td>\n    </tr>\n  </tbody>\n</table>\n<p>3908 rows × 7 columns</p>\n</div>"
     },
     "execution_count": 85,
     "metadata": {},
     "output_type": "execute_result"
    }
   ],
   "source": [
    "from pykeen.predict import predict_triples\n",
    "\n",
    "pack = predict_triples(model=result.model.cuda(), triples=validation)\n",
    "predictions = pack.process(factory=validation).df\n",
    "predictions"
   ],
   "metadata": {
    "collapsed": false,
    "ExecuteTime": {
     "end_time": "2024-03-28T22:31:48.606535Z",
     "start_time": "2024-03-28T22:31:48.591523Z"
    }
   },
   "id": "9b3d689ae5c16159",
   "execution_count": 85
  },
  {
   "cell_type": "code",
   "outputs": [
    {
     "data": {
      "text/plain": "                          score                \n                           mean       std count\nhead_id head_label                             \n6           zhony     -8.549776       NaN     1\n11        코가 토모에      -7.074272       NaN     1\n13       02년생 프로지망    -8.504862  0.637751     2\n18       JUGKING six  -8.526512  0.583304     2\n19       MeguMeguFire -8.315632       NaN     1\n...                         ...       ...   ...\n6695    흔한닝겐          -9.755445       NaN     1\n6696    흙흘흙흙흙         -8.960005       NaN     1\n6699    흥커복           -7.841328  0.566914     2\n6703    히키 승수         -9.509515       NaN     1\n6708    힙합힙합          -9.463398       NaN     1\n\n[3036 rows x 3 columns]",
      "text/html": "<div>\n<style scoped>\n    .dataframe tbody tr th:only-of-type {\n        vertical-align: middle;\n    }\n\n    .dataframe tbody tr th {\n        vertical-align: top;\n    }\n\n    .dataframe thead tr th {\n        text-align: left;\n    }\n\n    .dataframe thead tr:last-of-type th {\n        text-align: right;\n    }\n</style>\n<table border=\"1\" class=\"dataframe\">\n  <thead>\n    <tr>\n      <th></th>\n      <th></th>\n      <th colspan=\"3\" halign=\"left\">score</th>\n    </tr>\n    <tr>\n      <th></th>\n      <th></th>\n      <th>mean</th>\n      <th>std</th>\n      <th>count</th>\n    </tr>\n    <tr>\n      <th>head_id</th>\n      <th>head_label</th>\n      <th></th>\n      <th></th>\n      <th></th>\n    </tr>\n  </thead>\n  <tbody>\n    <tr>\n      <th>6</th>\n      <th>zhony</th>\n      <td>-8.549776</td>\n      <td>NaN</td>\n      <td>1</td>\n    </tr>\n    <tr>\n      <th>11</th>\n      <th>코가 토모에</th>\n      <td>-7.074272</td>\n      <td>NaN</td>\n      <td>1</td>\n    </tr>\n    <tr>\n      <th>13</th>\n      <th>02년생 프로지망</th>\n      <td>-8.504862</td>\n      <td>0.637751</td>\n      <td>2</td>\n    </tr>\n    <tr>\n      <th>18</th>\n      <th>JUGKING six</th>\n      <td>-8.526512</td>\n      <td>0.583304</td>\n      <td>2</td>\n    </tr>\n    <tr>\n      <th>19</th>\n      <th>MeguMeguFire</th>\n      <td>-8.315632</td>\n      <td>NaN</td>\n      <td>1</td>\n    </tr>\n    <tr>\n      <th>...</th>\n      <th>...</th>\n      <td>...</td>\n      <td>...</td>\n      <td>...</td>\n    </tr>\n    <tr>\n      <th>6695</th>\n      <th>흔한닝겐</th>\n      <td>-9.755445</td>\n      <td>NaN</td>\n      <td>1</td>\n    </tr>\n    <tr>\n      <th>6696</th>\n      <th>흙흘흙흙흙</th>\n      <td>-8.960005</td>\n      <td>NaN</td>\n      <td>1</td>\n    </tr>\n    <tr>\n      <th>6699</th>\n      <th>흥커복</th>\n      <td>-7.841328</td>\n      <td>0.566914</td>\n      <td>2</td>\n    </tr>\n    <tr>\n      <th>6703</th>\n      <th>히키 승수</th>\n      <td>-9.509515</td>\n      <td>NaN</td>\n      <td>1</td>\n    </tr>\n    <tr>\n      <th>6708</th>\n      <th>힙합힙합</th>\n      <td>-9.463398</td>\n      <td>NaN</td>\n      <td>1</td>\n    </tr>\n  </tbody>\n</table>\n<p>3036 rows × 3 columns</p>\n</div>"
     },
     "execution_count": 82,
     "metadata": {},
     "output_type": "execute_result"
    }
   ],
   "source": [
    "predictions.groupby(by=[\"head_id\", \"head_label\"]).agg({\"score\": [\"mean\", \"std\", \"count\"]})"
   ],
   "metadata": {
    "collapsed": false,
    "ExecuteTime": {
     "end_time": "2024-03-28T22:31:02.859157Z",
     "start_time": "2024-03-28T22:31:02.829124Z"
    }
   },
   "id": "67d3dd6d2bd79dc3",
   "execution_count": 82
  }
 ],
 "metadata": {
  "kernelspec": {
   "display_name": "Python 3",
   "language": "python",
   "name": "python3"
  },
  "language_info": {
   "codemirror_mode": {
    "name": "ipython",
    "version": 2
   },
   "file_extension": ".py",
   "mimetype": "text/x-python",
   "name": "python",
   "nbconvert_exporter": "python",
   "pygments_lexer": "ipython2",
   "version": "2.7.6"
  }
 },
 "nbformat": 4,
 "nbformat_minor": 5
}

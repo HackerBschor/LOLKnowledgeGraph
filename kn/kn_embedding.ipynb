{
 "cells": [
  {
   "cell_type": "code",
   "outputs": [],
   "source": [
    "import numpy as np\n",
    "import pandas as pd\n",
    "from sklearn.model_selection import train_test_split\n",
    "\n",
    "from db.graph import Neo4JConnector\n",
    "from pykeen.triples import TriplesFactory\n",
    "from pykeen.predict import predict_all\n",
    "import matplotlib.pyplot as plt\n",
    "import seaborn as sns"
   ],
   "metadata": {
    "collapsed": false,
    "ExecuteTime": {
     "end_time": "2024-03-28T12:14:25.843708Z",
     "start_time": "2024-03-28T12:14:25.840981Z"
    }
   },
   "id": "30f463cdbafbfef",
   "execution_count": 58
  },
  {
   "cell_type": "code",
   "outputs": [],
   "source": [
    "neo4j = Neo4JConnector.create_from_config(\"../config.ini\")"
   ],
   "metadata": {
    "collapsed": false,
    "ExecuteTime": {
     "end_time": "2024-03-28T11:47:05.861533Z",
     "start_time": "2024-03-28T11:47:03.679586Z"
    }
   },
   "id": "ef8082013c5f0133",
   "execution_count": 2
  },
  {
   "cell_type": "code",
   "outputs": [],
   "source": [
    "result = neo4j.exec(\"\"\"MATCH \n",
    "        (p:Player)-[pc:PLAYS_CHAMP]->(c:Champion), \n",
    "        (p)-[hp:HAS_POSITION]->(pos:Position),\n",
    "        (p)-[pi:PLAYS_IN]->(pim:PlayerInMatch)\n",
    "    WITH p, c, pos, COUNT(pim.matchID) AS matchesPlayed\n",
    "    WHERE matchesPlayed > 10\n",
    "    RETURN p, c, pos\"\"\")"
   ],
   "metadata": {
    "collapsed": false,
    "ExecuteTime": {
     "end_time": "2024-03-28T12:46:55.059594Z",
     "start_time": "2024-03-28T12:46:32.464005Z"
    }
   },
   "id": "758c31c42b96d090",
   "execution_count": 91
  },
  {
   "cell_type": "code",
   "outputs": [
    {
     "data": {
      "text/plain": "                                               accountID platformID  \\\n0        INBtLo1tFtY4ApN7MKe6-n83CkYccz49oKnRe-PhG031qgA         KR   \n1        INBtLo1tFtY4ApN7MKe6-n83CkYccz49oKnRe-PhG031qgA         KR   \n2        INBtLo1tFtY4ApN7MKe6-n83CkYccz49oKnRe-PhG031qgA         KR   \n3        INBtLo1tFtY4ApN7MKe6-n83CkYccz49oKnRe-PhG031qgA         KR   \n4        INBtLo1tFtY4ApN7MKe6-n83CkYccz49oKnRe-PhG031qgA         KR   \n...                                                  ...        ...   \n38259  gAvxLk1Y_i5QOhiLfvg8NGk6ULRQ-IkLjzJN7_1-sEhCmI...         KR   \n38260  gAvxLk1Y_i5QOhiLfvg8NGk6ULRQ-IkLjzJN7_1-sEhCmI...         KR   \n38261  gAvxLk1Y_i5QOhiLfvg8NGk6ULRQ-IkLjzJN7_1-sEhCmI...         KR   \n38262    R_BUPPLlN13kPOeqnQGbfkAWDEJi0mbKTum8ZtE9PsyGlqg         KR   \n38263    R_BUPPLlN13kPOeqnQGbfkAWDEJi0mbKTum8ZtE9PsyGlqg         KR   \n\n      positionID championName  \n0            TOP        Akali  \n1            TOP       Lucian  \n2            TOP       Irelia  \n3            TOP       Aatrox  \n4            TOP         Sett  \n...          ...          ...  \n38259        JGL         Ekko  \n38260        JGL     Nocturne  \n38261        JGL      Karthus  \n38262        JGL         Olaf  \n38263        JGL    Lissandra  \n\n[38264 rows x 4 columns]",
      "text/html": "<div>\n<style scoped>\n    .dataframe tbody tr th:only-of-type {\n        vertical-align: middle;\n    }\n\n    .dataframe tbody tr th {\n        vertical-align: top;\n    }\n\n    .dataframe thead th {\n        text-align: right;\n    }\n</style>\n<table border=\"1\" class=\"dataframe\">\n  <thead>\n    <tr style=\"text-align: right;\">\n      <th></th>\n      <th>accountID</th>\n      <th>platformID</th>\n      <th>positionID</th>\n      <th>championName</th>\n    </tr>\n  </thead>\n  <tbody>\n    <tr>\n      <th>0</th>\n      <td>INBtLo1tFtY4ApN7MKe6-n83CkYccz49oKnRe-PhG031qgA</td>\n      <td>KR</td>\n      <td>TOP</td>\n      <td>Akali</td>\n    </tr>\n    <tr>\n      <th>1</th>\n      <td>INBtLo1tFtY4ApN7MKe6-n83CkYccz49oKnRe-PhG031qgA</td>\n      <td>KR</td>\n      <td>TOP</td>\n      <td>Lucian</td>\n    </tr>\n    <tr>\n      <th>2</th>\n      <td>INBtLo1tFtY4ApN7MKe6-n83CkYccz49oKnRe-PhG031qgA</td>\n      <td>KR</td>\n      <td>TOP</td>\n      <td>Irelia</td>\n    </tr>\n    <tr>\n      <th>3</th>\n      <td>INBtLo1tFtY4ApN7MKe6-n83CkYccz49oKnRe-PhG031qgA</td>\n      <td>KR</td>\n      <td>TOP</td>\n      <td>Aatrox</td>\n    </tr>\n    <tr>\n      <th>4</th>\n      <td>INBtLo1tFtY4ApN7MKe6-n83CkYccz49oKnRe-PhG031qgA</td>\n      <td>KR</td>\n      <td>TOP</td>\n      <td>Sett</td>\n    </tr>\n    <tr>\n      <th>...</th>\n      <td>...</td>\n      <td>...</td>\n      <td>...</td>\n      <td>...</td>\n    </tr>\n    <tr>\n      <th>38259</th>\n      <td>gAvxLk1Y_i5QOhiLfvg8NGk6ULRQ-IkLjzJN7_1-sEhCmI...</td>\n      <td>KR</td>\n      <td>JGL</td>\n      <td>Ekko</td>\n    </tr>\n    <tr>\n      <th>38260</th>\n      <td>gAvxLk1Y_i5QOhiLfvg8NGk6ULRQ-IkLjzJN7_1-sEhCmI...</td>\n      <td>KR</td>\n      <td>JGL</td>\n      <td>Nocturne</td>\n    </tr>\n    <tr>\n      <th>38261</th>\n      <td>gAvxLk1Y_i5QOhiLfvg8NGk6ULRQ-IkLjzJN7_1-sEhCmI...</td>\n      <td>KR</td>\n      <td>JGL</td>\n      <td>Karthus</td>\n    </tr>\n    <tr>\n      <th>38262</th>\n      <td>R_BUPPLlN13kPOeqnQGbfkAWDEJi0mbKTum8ZtE9PsyGlqg</td>\n      <td>KR</td>\n      <td>JGL</td>\n      <td>Olaf</td>\n    </tr>\n    <tr>\n      <th>38263</th>\n      <td>R_BUPPLlN13kPOeqnQGbfkAWDEJi0mbKTum8ZtE9PsyGlqg</td>\n      <td>KR</td>\n      <td>JGL</td>\n      <td>Lissandra</td>\n    </tr>\n  </tbody>\n</table>\n<p>38264 rows × 4 columns</p>\n</div>"
     },
     "execution_count": 93,
     "metadata": {},
     "output_type": "execute_result"
    }
   ],
   "source": [
    "df = pd.DataFrame(\n",
    "    [(r[\"p\"][\"accountID\"], r[\"p\"][\"platformID\"], r[\"pos\"][\"positionID\"], r[\"c\"][\"championName\"]) for r in  result.records],\n",
    "    columns=(\"accountID\", \"platformID\", \"positionID\", \"championName\"))\n",
    "df"
   ],
   "metadata": {
    "collapsed": false,
    "ExecuteTime": {
     "end_time": "2024-03-28T12:46:59.033474Z",
     "start_time": "2024-03-28T12:46:58.967107Z"
    }
   },
   "id": "da7e51cc64477b5a",
   "execution_count": 93
  },
  {
   "cell_type": "code",
   "outputs": [],
   "source": [
    "user_subset = pd.Series(df[\"accountID\"].unique()).sample(1000)\n",
    "df_reduced = df[df.accountID.isin(user_subset)]"
   ],
   "metadata": {
    "collapsed": false,
    "ExecuteTime": {
     "end_time": "2024-03-28T12:54:07.969320Z",
     "start_time": "2024-03-28T12:54:07.960817Z"
    }
   },
   "id": "fe87ef0a43b6fc68",
   "execution_count": 127
  },
  {
   "cell_type": "code",
   "outputs": [],
   "source": [
    "df_positions = df_reduced.apply(lambda x: pd.Series([f\"{x['accountID']};{x['platformID']}\", \"PLAYS_POSITION\", x['positionID']]), axis=1).drop_duplicates()\n",
    "df_champs = df_reduced.apply(lambda x: pd.Series([f\"{x['accountID']};{x['platformID']}\", \"PLAYS_CHAMP\", x['championName']]), axis=1)"
   ],
   "metadata": {
    "collapsed": false,
    "ExecuteTime": {
     "end_time": "2024-03-28T12:54:09.922710Z",
     "start_time": "2024-03-28T12:54:09.236168Z"
    }
   },
   "id": "71543112c8c52afa",
   "execution_count": 128
  },
  {
   "cell_type": "code",
   "outputs": [
    {
     "name": "stderr",
     "output_type": "stream",
     "text": [
      "WARNING:pykeen.utils:using automatically assigned random_state=3987490564\n",
      "INFO:pykeen.triples.splitting:done splitting triples to groups of sizes [3710, 598, 598]\n"
     ]
    }
   ],
   "source": [
    "tf_full = TriplesFactory.from_labeled_triples(np.array(pd.concat([df_positions, df_champs])))\n",
    "training, testing, validation = tf_full.split([.8, .1, .1])"
   ],
   "metadata": {
    "collapsed": false,
    "ExecuteTime": {
     "end_time": "2024-03-28T12:54:10.686033Z",
     "start_time": "2024-03-28T12:54:10.669080Z"
    }
   },
   "id": "a199ac028da4fdf9",
   "execution_count": 129
  },
  {
   "cell_type": "code",
   "outputs": [
    {
     "name": "stderr",
     "output_type": "stream",
     "text": [
      "INFO:pykeen.pipeline.api:Using device: cpu\n"
     ]
    },
    {
     "data": {
      "text/plain": "Training epochs on cpu:   0%|          | 0/5 [00:00<?, ?epoch/s]",
      "application/vnd.jupyter.widget-view+json": {
       "version_major": 2,
       "version_minor": 0,
       "model_id": "e2dfd37744e34a7a9e9dfb8dac5f6a93"
      }
     },
     "metadata": {},
     "output_type": "display_data"
    },
    {
     "data": {
      "text/plain": "Training batches on cpu:   0%|          | 0/19 [00:00<?, ?batch/s]",
      "application/vnd.jupyter.widget-view+json": {
       "version_major": 2,
       "version_minor": 0,
       "model_id": "9881551f41cc42c3bc43f44cce0ba951"
      }
     },
     "metadata": {},
     "output_type": "display_data"
    },
    {
     "data": {
      "text/plain": "Training batches on cpu:   0%|          | 0/19 [00:00<?, ?batch/s]",
      "application/vnd.jupyter.widget-view+json": {
       "version_major": 2,
       "version_minor": 0,
       "model_id": "68ab59a5a59149eab1c9d56295f20de9"
      }
     },
     "metadata": {},
     "output_type": "display_data"
    },
    {
     "data": {
      "text/plain": "Training batches on cpu:   0%|          | 0/19 [00:00<?, ?batch/s]",
      "application/vnd.jupyter.widget-view+json": {
       "version_major": 2,
       "version_minor": 0,
       "model_id": "eb849d5b94ad47ee98b842c032f4926c"
      }
     },
     "metadata": {},
     "output_type": "display_data"
    },
    {
     "data": {
      "text/plain": "Training batches on cpu:   0%|          | 0/19 [00:00<?, ?batch/s]",
      "application/vnd.jupyter.widget-view+json": {
       "version_major": 2,
       "version_minor": 0,
       "model_id": "6b546472dd544fdfa8e4aa734d641e71"
      }
     },
     "metadata": {},
     "output_type": "display_data"
    },
    {
     "data": {
      "text/plain": "Training batches on cpu:   0%|          | 0/19 [00:00<?, ?batch/s]",
      "application/vnd.jupyter.widget-view+json": {
       "version_major": 2,
       "version_minor": 0,
       "model_id": "bc3b809cde4640c28cbb92add4ba3316"
      }
     },
     "metadata": {},
     "output_type": "display_data"
    },
    {
     "data": {
      "text/plain": "Evaluating on cpu:   0%|          | 0.00/598 [00:00<?, ?triple/s]",
      "application/vnd.jupyter.widget-view+json": {
       "version_major": 2,
       "version_minor": 0,
       "model_id": "01538dfd783f468fbf52cec143ef1b78"
      }
     },
     "metadata": {},
     "output_type": "display_data"
    },
    {
     "name": "stderr",
     "output_type": "stream",
     "text": [
      "WARNING:torch_max_mem.api:Encountered tensors on device_types={'cpu'} while only ['cuda'] are considered safe for automatic memory utilization maximization. This may lead to undocumented crashes (but can be safe, too).\n",
      "INFO:pykeen.evaluation.evaluator:Evaluation took 0.15s seconds\n"
     ]
    }
   ],
   "source": [
    "from pykeen.pipeline import pipeline\n",
    "\n",
    "result = pipeline(\n",
    "    training=training,\n",
    "    testing=testing,\n",
    "    validation=validation,\n",
    "    model = 'TransE',\n",
    "    random_seed=1,\n",
    "    device='cpu',\n",
    ")"
   ],
   "metadata": {
    "collapsed": false,
    "ExecuteTime": {
     "end_time": "2024-03-28T12:54:13.356011Z",
     "start_time": "2024-03-28T12:54:11.932944Z"
    }
   },
   "id": "79b27308b3ee7e08",
   "execution_count": 130
  },
  {
   "cell_type": "code",
   "outputs": [
    {
     "name": "stderr",
     "output_type": "stream",
     "text": [
      "WARNING:torch_max_mem.api:Encountered tensors on device_types={'cpu'} while only ['cuda'] are considered safe for automatic memory utilization maximization. This may lead to undocumented crashes (but can be safe, too).\n"
     ]
    },
    {
     "data": {
      "text/plain": "     head_id                                         head_label  relation_id  \\\n0        237  DFKFAZSYmNxPwZhHjYLhO_vS4RgqC_ZG5k3d1a5jvXxyp1...            1   \n1        641  W4Lr26a5FM4cazmE9_gGALJP1dTaMMAwc86KawUHcDGB-w...            0   \n2        404  LOtCD2lfGrD86ep6J9MWkPEcTTiutgaVlFu1uhXq15CehS...            0   \n3        638  W074qHHcqi0DzkEMpQFlgUOWaG_8Uy6Lf7mDWIhr5boGyY...            0   \n4        991  pwdrKiPOcCFreVvDrRGM0eocy9_SYxKyRkWo9V_FHTkCFE...            0   \n..       ...                                                ...          ...   \n593      992  pxOqh9J40fZjFSzqkbtuOc1rMuu0VBTqWkP4sg6_CLzPQX...            1   \n594      938  mqZrk1NuGSN-26ZKIgTa9eZXxXaY8x3adNnsSiREOVleTO...            0   \n595     1122    xyWKyc5SuE4SqOM797elsDo3dhJ9Gqfxu8wZTiQczjIX;KR            0   \n596     1040  segBcp2_WFPNXxC5S-aKkYEuZXmpKOfjmLQQg992Nazkgz...            0   \n597        3  -K5Dcqaa_SYxpKQUG1mm9RVO7WlTYDRVCg9bRmDpdQjxEY...            1   \n\n     relation_label  tail_id   tail_label      score  \n0    PLAYS_POSITION      538          SUP  -7.709692  \n1       PLAYS_CHAMP      458      Nidalee -11.726681  \n2       PLAYS_CHAMP      543         Sett  -9.847982  \n3       PLAYS_CHAMP      632     Vladimir  -7.970482  \n4       PLAYS_CHAMP      529       Rumble  -9.958089  \n..              ...      ...          ...        ...  \n593  PLAYS_POSITION      425          MID  -7.350600  \n594     PLAYS_CHAMP      443  Mordekaiser -10.082693  \n595     PLAYS_CHAMP      627       Veigar  -9.181013  \n596     PLAYS_CHAMP      709          Zoe -10.076319  \n597  PLAYS_POSITION      538          SUP  -9.738726  \n\n[598 rows x 7 columns]",
      "text/html": "<div>\n<style scoped>\n    .dataframe tbody tr th:only-of-type {\n        vertical-align: middle;\n    }\n\n    .dataframe tbody tr th {\n        vertical-align: top;\n    }\n\n    .dataframe thead th {\n        text-align: right;\n    }\n</style>\n<table border=\"1\" class=\"dataframe\">\n  <thead>\n    <tr style=\"text-align: right;\">\n      <th></th>\n      <th>head_id</th>\n      <th>head_label</th>\n      <th>relation_id</th>\n      <th>relation_label</th>\n      <th>tail_id</th>\n      <th>tail_label</th>\n      <th>score</th>\n    </tr>\n  </thead>\n  <tbody>\n    <tr>\n      <th>0</th>\n      <td>237</td>\n      <td>DFKFAZSYmNxPwZhHjYLhO_vS4RgqC_ZG5k3d1a5jvXxyp1...</td>\n      <td>1</td>\n      <td>PLAYS_POSITION</td>\n      <td>538</td>\n      <td>SUP</td>\n      <td>-7.709692</td>\n    </tr>\n    <tr>\n      <th>1</th>\n      <td>641</td>\n      <td>W4Lr26a5FM4cazmE9_gGALJP1dTaMMAwc86KawUHcDGB-w...</td>\n      <td>0</td>\n      <td>PLAYS_CHAMP</td>\n      <td>458</td>\n      <td>Nidalee</td>\n      <td>-11.726681</td>\n    </tr>\n    <tr>\n      <th>2</th>\n      <td>404</td>\n      <td>LOtCD2lfGrD86ep6J9MWkPEcTTiutgaVlFu1uhXq15CehS...</td>\n      <td>0</td>\n      <td>PLAYS_CHAMP</td>\n      <td>543</td>\n      <td>Sett</td>\n      <td>-9.847982</td>\n    </tr>\n    <tr>\n      <th>3</th>\n      <td>638</td>\n      <td>W074qHHcqi0DzkEMpQFlgUOWaG_8Uy6Lf7mDWIhr5boGyY...</td>\n      <td>0</td>\n      <td>PLAYS_CHAMP</td>\n      <td>632</td>\n      <td>Vladimir</td>\n      <td>-7.970482</td>\n    </tr>\n    <tr>\n      <th>4</th>\n      <td>991</td>\n      <td>pwdrKiPOcCFreVvDrRGM0eocy9_SYxKyRkWo9V_FHTkCFE...</td>\n      <td>0</td>\n      <td>PLAYS_CHAMP</td>\n      <td>529</td>\n      <td>Rumble</td>\n      <td>-9.958089</td>\n    </tr>\n    <tr>\n      <th>...</th>\n      <td>...</td>\n      <td>...</td>\n      <td>...</td>\n      <td>...</td>\n      <td>...</td>\n      <td>...</td>\n      <td>...</td>\n    </tr>\n    <tr>\n      <th>593</th>\n      <td>992</td>\n      <td>pxOqh9J40fZjFSzqkbtuOc1rMuu0VBTqWkP4sg6_CLzPQX...</td>\n      <td>1</td>\n      <td>PLAYS_POSITION</td>\n      <td>425</td>\n      <td>MID</td>\n      <td>-7.350600</td>\n    </tr>\n    <tr>\n      <th>594</th>\n      <td>938</td>\n      <td>mqZrk1NuGSN-26ZKIgTa9eZXxXaY8x3adNnsSiREOVleTO...</td>\n      <td>0</td>\n      <td>PLAYS_CHAMP</td>\n      <td>443</td>\n      <td>Mordekaiser</td>\n      <td>-10.082693</td>\n    </tr>\n    <tr>\n      <th>595</th>\n      <td>1122</td>\n      <td>xyWKyc5SuE4SqOM797elsDo3dhJ9Gqfxu8wZTiQczjIX;KR</td>\n      <td>0</td>\n      <td>PLAYS_CHAMP</td>\n      <td>627</td>\n      <td>Veigar</td>\n      <td>-9.181013</td>\n    </tr>\n    <tr>\n      <th>596</th>\n      <td>1040</td>\n      <td>segBcp2_WFPNXxC5S-aKkYEuZXmpKOfjmLQQg992Nazkgz...</td>\n      <td>0</td>\n      <td>PLAYS_CHAMP</td>\n      <td>709</td>\n      <td>Zoe</td>\n      <td>-10.076319</td>\n    </tr>\n    <tr>\n      <th>597</th>\n      <td>3</td>\n      <td>-K5Dcqaa_SYxpKQUG1mm9RVO7WlTYDRVCg9bRmDpdQjxEY...</td>\n      <td>1</td>\n      <td>PLAYS_POSITION</td>\n      <td>538</td>\n      <td>SUP</td>\n      <td>-9.738726</td>\n    </tr>\n  </tbody>\n</table>\n<p>598 rows × 7 columns</p>\n</div>"
     },
     "execution_count": 156,
     "metadata": {},
     "output_type": "execute_result"
    }
   ],
   "source": [
    "from pykeen.predict import predict_triples\n",
    "\n",
    "pack = predict_triples(model=result.model, triples=testing)\n",
    "predictions = pack.process(factory=result.training).df\n",
    "predictions"
   ],
   "metadata": {
    "collapsed": false,
    "ExecuteTime": {
     "end_time": "2024-03-28T13:00:34.830972Z",
     "start_time": "2024-03-28T13:00:34.821568Z"
    }
   },
   "id": "9b3d689ae5c16159",
   "execution_count": 156
  },
  {
   "cell_type": "code",
   "outputs": [
    {
     "name": "stderr",
     "output_type": "stream",
     "text": [
      "WARNING:pykeen.triples.triples_factory:Reconstructing all label-based triples. This is expensive and rarely needed.\n"
     ]
    },
    {
     "data": {
      "text/plain": "                                                  subj             rel  \\\n777  -K5Dcqaa_SYxpKQUG1mm9RVO7WlTYDRVCg9bRmDpdQjxEY...  PLAYS_POSITION   \n25   -UxVo_E8wP7ctL4i6u8o6tUhJKQ9YV_XdnORB90EreFN_Y...  PLAYS_POSITION   \n183    -Y0DXJZWoKA3ICLpBIJ_S5b-3kU4JUmiPVdw-xgrWehN;KR     PLAYS_CHAMP   \n184    -Y0DXJZWoKA3ICLpBIJ_S5b-3kU4JUmiPVdw-xgrWehN;KR     PLAYS_CHAMP   \n533    -Y0DXJZWoKA3ICLpBIJ_S5b-3kU4JUmiPVdw-xgrWehN;KR     PLAYS_CHAMP   \n..                                                 ...             ...   \n61   zQCIwK89u3pr4xhui-ePig6M-uKpp49jb-LN3vTnVRf_jG...     PLAYS_CHAMP   \n365  zQCIwK89u3pr4xhui-ePig6M-uKpp49jb-LN3vTnVRf_jG...     PLAYS_CHAMP   \n366  zQCIwK89u3pr4xhui-ePig6M-uKpp49jb-LN3vTnVRf_jG...     PLAYS_CHAMP   \n151  zaz8bj3nOMJ6NC30cvdQSnd8E9Lh8VpPSNwa09CBOJHwIb...     PLAYS_CHAMP   \n485  zgnG9XVmhk6n4Lp4iV7g4pVaO4PrhW7R1O8k1oajO6hFp3...     PLAYS_CHAMP   \n\n              obj    tail_label  \n777           SUP           SUP  \n25            TOP           TOP  \n183        Kai'Sa        Kai'Sa  \n184        Kai'Sa        Qiyana  \n533        Qiyana        Kai'Sa  \n..            ...           ...  \n61        Rek'Sai  Twisted Fate  \n365  Twisted Fate       Rek'Sai  \n366  Twisted Fate  Twisted Fate  \n151       Karthus       Karthus  \n485       Rek'Sai       Rek'Sai  \n\n[778 rows x 4 columns]",
      "text/html": "<div>\n<style scoped>\n    .dataframe tbody tr th:only-of-type {\n        vertical-align: middle;\n    }\n\n    .dataframe tbody tr th {\n        vertical-align: top;\n    }\n\n    .dataframe thead th {\n        text-align: right;\n    }\n</style>\n<table border=\"1\" class=\"dataframe\">\n  <thead>\n    <tr style=\"text-align: right;\">\n      <th></th>\n      <th>subj</th>\n      <th>rel</th>\n      <th>obj</th>\n      <th>tail_label</th>\n    </tr>\n  </thead>\n  <tbody>\n    <tr>\n      <th>777</th>\n      <td>-K5Dcqaa_SYxpKQUG1mm9RVO7WlTYDRVCg9bRmDpdQjxEY...</td>\n      <td>PLAYS_POSITION</td>\n      <td>SUP</td>\n      <td>SUP</td>\n    </tr>\n    <tr>\n      <th>25</th>\n      <td>-UxVo_E8wP7ctL4i6u8o6tUhJKQ9YV_XdnORB90EreFN_Y...</td>\n      <td>PLAYS_POSITION</td>\n      <td>TOP</td>\n      <td>TOP</td>\n    </tr>\n    <tr>\n      <th>183</th>\n      <td>-Y0DXJZWoKA3ICLpBIJ_S5b-3kU4JUmiPVdw-xgrWehN;KR</td>\n      <td>PLAYS_CHAMP</td>\n      <td>Kai'Sa</td>\n      <td>Kai'Sa</td>\n    </tr>\n    <tr>\n      <th>184</th>\n      <td>-Y0DXJZWoKA3ICLpBIJ_S5b-3kU4JUmiPVdw-xgrWehN;KR</td>\n      <td>PLAYS_CHAMP</td>\n      <td>Kai'Sa</td>\n      <td>Qiyana</td>\n    </tr>\n    <tr>\n      <th>533</th>\n      <td>-Y0DXJZWoKA3ICLpBIJ_S5b-3kU4JUmiPVdw-xgrWehN;KR</td>\n      <td>PLAYS_CHAMP</td>\n      <td>Qiyana</td>\n      <td>Kai'Sa</td>\n    </tr>\n    <tr>\n      <th>...</th>\n      <td>...</td>\n      <td>...</td>\n      <td>...</td>\n      <td>...</td>\n    </tr>\n    <tr>\n      <th>61</th>\n      <td>zQCIwK89u3pr4xhui-ePig6M-uKpp49jb-LN3vTnVRf_jG...</td>\n      <td>PLAYS_CHAMP</td>\n      <td>Rek'Sai</td>\n      <td>Twisted Fate</td>\n    </tr>\n    <tr>\n      <th>365</th>\n      <td>zQCIwK89u3pr4xhui-ePig6M-uKpp49jb-LN3vTnVRf_jG...</td>\n      <td>PLAYS_CHAMP</td>\n      <td>Twisted Fate</td>\n      <td>Rek'Sai</td>\n    </tr>\n    <tr>\n      <th>366</th>\n      <td>zQCIwK89u3pr4xhui-ePig6M-uKpp49jb-LN3vTnVRf_jG...</td>\n      <td>PLAYS_CHAMP</td>\n      <td>Twisted Fate</td>\n      <td>Twisted Fate</td>\n    </tr>\n    <tr>\n      <th>151</th>\n      <td>zaz8bj3nOMJ6NC30cvdQSnd8E9Lh8VpPSNwa09CBOJHwIb...</td>\n      <td>PLAYS_CHAMP</td>\n      <td>Karthus</td>\n      <td>Karthus</td>\n    </tr>\n    <tr>\n      <th>485</th>\n      <td>zgnG9XVmhk6n4Lp4iV7g4pVaO4PrhW7R1O8k1oajO6hFp3...</td>\n      <td>PLAYS_CHAMP</td>\n      <td>Rek'Sai</td>\n      <td>Rek'Sai</td>\n    </tr>\n  </tbody>\n</table>\n<p>778 rows × 4 columns</p>\n</div>"
     },
     "execution_count": 171,
     "metadata": {},
     "output_type": "execute_result"
    }
   ],
   "source": [
    "results = pd.DataFrame(testing.triples, columns=(\"subj\", \"rel\", \"obj\")).merge(predictions, left_on=[\"subj\", \"rel\"], right_on=[\"head_label\", \"relation_label\"])\n",
    "results = results[[\"subj\", \"rel\", \"obj\", \"tail_label\"]]\n",
    "results.sort_values([\"subj\", \"rel\"])"
   ],
   "metadata": {
    "collapsed": false,
    "ExecuteTime": {
     "end_time": "2024-03-28T13:05:26.251530Z",
     "start_time": "2024-03-28T13:05:26.243111Z"
    }
   },
   "id": "5bf5597c9c1b9004",
   "execution_count": 171
  }
 ],
 "metadata": {
  "kernelspec": {
   "display_name": "Python 3",
   "language": "python",
   "name": "python3"
  },
  "language_info": {
   "codemirror_mode": {
    "name": "ipython",
    "version": 2
   },
   "file_extension": ".py",
   "mimetype": "text/x-python",
   "name": "python",
   "nbconvert_exporter": "python",
   "pygments_lexer": "ipython2",
   "version": "2.7.6"
  }
 },
 "nbformat": 4,
 "nbformat_minor": 5
}
